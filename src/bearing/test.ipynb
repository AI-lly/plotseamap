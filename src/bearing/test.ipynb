{
 "cells": [
  {
   "cell_type": "code",
   "execution_count": 1,
   "metadata": {},
   "outputs": [],
   "source": [
    "import pandas as pd\n",
    "import numpy as np"
   ]
  },
  {
   "attachments": {},
   "cell_type": "markdown",
   "metadata": {},
   "source": [
    "## Schritt 0 – Daten laden & einen ersten Blick werfen"
   ]
  },
  {
   "cell_type": "code",
   "execution_count": 2,
   "metadata": {},
   "outputs": [
    {
     "name": "stdout",
     "output_type": "stream",
     "text": [
      "Zeilen: 977539\n",
      "Spalten: ['# Timestamp', 'MMSI', 'Latitude', 'Longitude', 'Destination', 'bearing', 'bearing_rate', 'dist_m']\n"
     ]
    },
    {
     "data": {
      "text/html": [
       "<div>\n",
       "<style scoped>\n",
       "    .dataframe tbody tr th:only-of-type {\n",
       "        vertical-align: middle;\n",
       "    }\n",
       "\n",
       "    .dataframe tbody tr th {\n",
       "        vertical-align: top;\n",
       "    }\n",
       "\n",
       "    .dataframe thead th {\n",
       "        text-align: right;\n",
       "    }\n",
       "</style>\n",
       "<table border=\"1\" class=\"dataframe\">\n",
       "  <thead>\n",
       "    <tr style=\"text-align: right;\">\n",
       "      <th></th>\n",
       "      <th># Timestamp</th>\n",
       "      <th>MMSI</th>\n",
       "      <th>Latitude</th>\n",
       "      <th>Longitude</th>\n",
       "      <th>Destination</th>\n",
       "      <th>bearing</th>\n",
       "      <th>bearing_rate</th>\n",
       "      <th>dist_m</th>\n",
       "    </tr>\n",
       "  </thead>\n",
       "  <tbody>\n",
       "    <tr>\n",
       "      <th>0</th>\n",
       "      <td>2022-10-01 00:00:20</td>\n",
       "      <td>229344000</td>\n",
       "      <td>54.530143</td>\n",
       "      <td>11.356242</td>\n",
       "      <td>LTKLJ</td>\n",
       "      <td>141.098699</td>\n",
       "      <td>0.000000</td>\n",
       "      <td>6930.459417</td>\n",
       "    </tr>\n",
       "    <tr>\n",
       "      <th>1</th>\n",
       "      <td>2022-10-01 00:00:40</td>\n",
       "      <td>229344000</td>\n",
       "      <td>54.529653</td>\n",
       "      <td>11.357865</td>\n",
       "      <td>LTKLJ</td>\n",
       "      <td>140.711241</td>\n",
       "      <td>-0.019373</td>\n",
       "      <td>7039.053050</td>\n",
       "    </tr>\n",
       "    <tr>\n",
       "      <th>2</th>\n",
       "      <td>2022-10-01 00:01:00</td>\n",
       "      <td>229344000</td>\n",
       "      <td>54.529249</td>\n",
       "      <td>11.359166</td>\n",
       "      <td>LTKLJ</td>\n",
       "      <td>140.414996</td>\n",
       "      <td>-0.014812</td>\n",
       "      <td>7127.190917</td>\n",
       "    </tr>\n",
       "    <tr>\n",
       "      <th>3</th>\n",
       "      <td>2022-10-01 00:01:20</td>\n",
       "      <td>229344000</td>\n",
       "      <td>54.528824</td>\n",
       "      <td>11.360489</td>\n",
       "      <td>LTKLJ</td>\n",
       "      <td>140.129870</td>\n",
       "      <td>-0.014256</td>\n",
       "      <td>7218.308615</td>\n",
       "    </tr>\n",
       "    <tr>\n",
       "      <th>4</th>\n",
       "      <td>2022-10-01 00:01:40</td>\n",
       "      <td>229344000</td>\n",
       "      <td>54.528394</td>\n",
       "      <td>11.361816</td>\n",
       "      <td>LTKLJ</td>\n",
       "      <td>139.852954</td>\n",
       "      <td>-0.013846</td>\n",
       "      <td>7310.139577</td>\n",
       "    </tr>\n",
       "  </tbody>\n",
       "</table>\n",
       "</div>"
      ],
      "text/plain": [
       "           # Timestamp       MMSI   Latitude  Longitude Destination  \\\n",
       "0  2022-10-01 00:00:20  229344000  54.530143  11.356242       LTKLJ   \n",
       "1  2022-10-01 00:00:40  229344000  54.529653  11.357865       LTKLJ   \n",
       "2  2022-10-01 00:01:00  229344000  54.529249  11.359166       LTKLJ   \n",
       "3  2022-10-01 00:01:20  229344000  54.528824  11.360489       LTKLJ   \n",
       "4  2022-10-01 00:01:40  229344000  54.528394  11.361816       LTKLJ   \n",
       "\n",
       "      bearing  bearing_rate       dist_m  \n",
       "0  141.098699      0.000000  6930.459417  \n",
       "1  140.711241     -0.019373  7039.053050  \n",
       "2  140.414996     -0.014812  7127.190917  \n",
       "3  140.129870     -0.014256  7218.308615  \n",
       "4  139.852954     -0.013846  7310.139577  "
      ]
     },
     "execution_count": 2,
     "metadata": {},
     "output_type": "execute_result"
    }
   ],
   "source": [
    "# 0.1  Pfad zu deiner Datei anpassen, falls nötig\n",
    "csv_path = \"/Users/ilyaskaracabey/Desktop/Enviroments/AIS/data/processed/bearing/ais_with_distance.csv\"\n",
    "\n",
    "# 0.2  Einlesen\n",
    "df = pd.read_csv(csv_path)\n",
    "\n",
    "# 0.3  Grundinfos anzeigen\n",
    "print(\"Zeilen:\", len(df))\n",
    "print(\"Spalten:\", df.columns.tolist())\n",
    "df.head()"
   ]
  },
  {
   "cell_type": "code",
   "execution_count": 3,
   "metadata": {},
   "outputs": [
    {
     "data": {
      "text/plain": [
       "0         0.000000\n",
       "1        -0.019373\n",
       "2        -0.014812\n",
       "3        -0.014256\n",
       "4        -0.013846\n",
       "            ...   \n",
       "977534    0.003647\n",
       "977535    0.003771\n",
       "977536    0.004075\n",
       "977537    0.003972\n",
       "977538    0.003842\n",
       "Name: bearing_rate, Length: 977539, dtype: float64"
      ]
     },
     "execution_count": 3,
     "metadata": {},
     "output_type": "execute_result"
    }
   ],
   "source": [
    "df[\"bearing_rate\"]"
   ]
  },
  {
   "attachments": {},
   "cell_type": "markdown",
   "metadata": {},
   "source": [
    "## Schritt 1 – Raster‐Parameter setzen und die Daten bin-vorbereiten\n"
   ]
  },
  {
   "cell_type": "code",
   "execution_count": 4,
   "metadata": {},
   "outputs": [
    {
     "name": "stdout",
     "output_type": "stream",
     "text": [
      "Eindeutige theta_bin-Werte: [np.float64(0.0), np.float64(5.0), np.float64(10.0), np.float64(15.0), np.float64(20.0), np.float64(25.0), np.float64(30.0), np.float64(35.0), np.float64(40.0), np.float64(45.0)] ...\n",
      "Eindeutige rate_bin-Werte : [np.float64(0.0), np.float64(0.01), np.float64(0.03), np.float64(0.1), np.float64(0.3), np.float64(1.0), np.float64(3.0)] ...\n"
     ]
    },
    {
     "data": {
      "text/html": [
       "<div>\n",
       "<style scoped>\n",
       "    .dataframe tbody tr th:only-of-type {\n",
       "        vertical-align: middle;\n",
       "    }\n",
       "\n",
       "    .dataframe tbody tr th {\n",
       "        vertical-align: top;\n",
       "    }\n",
       "\n",
       "    .dataframe thead th {\n",
       "        text-align: right;\n",
       "    }\n",
       "</style>\n",
       "<table border=\"1\" class=\"dataframe\">\n",
       "  <thead>\n",
       "    <tr style=\"text-align: right;\">\n",
       "      <th></th>\n",
       "      <th># Timestamp</th>\n",
       "      <th>MMSI</th>\n",
       "      <th>Latitude</th>\n",
       "      <th>Longitude</th>\n",
       "      <th>Destination</th>\n",
       "      <th>bearing</th>\n",
       "      <th>bearing_rate</th>\n",
       "      <th>dist_m</th>\n",
       "      <th>bearing_bin</th>\n",
       "      <th>bearing_rate_abs</th>\n",
       "      <th>bearing_rate_bin</th>\n",
       "    </tr>\n",
       "  </thead>\n",
       "  <tbody>\n",
       "    <tr>\n",
       "      <th>0</th>\n",
       "      <td>2022-10-01 00:00:20</td>\n",
       "      <td>229344000</td>\n",
       "      <td>54.530143</td>\n",
       "      <td>11.356242</td>\n",
       "      <td>LTKLJ</td>\n",
       "      <td>141.098699</td>\n",
       "      <td>0.000000</td>\n",
       "      <td>6930.459417</td>\n",
       "      <td>140.0</td>\n",
       "      <td>0.000000</td>\n",
       "      <td>0.00</td>\n",
       "    </tr>\n",
       "    <tr>\n",
       "      <th>1</th>\n",
       "      <td>2022-10-01 00:00:40</td>\n",
       "      <td>229344000</td>\n",
       "      <td>54.529653</td>\n",
       "      <td>11.357865</td>\n",
       "      <td>LTKLJ</td>\n",
       "      <td>140.711241</td>\n",
       "      <td>-0.019373</td>\n",
       "      <td>7039.053050</td>\n",
       "      <td>140.0</td>\n",
       "      <td>0.019373</td>\n",
       "      <td>0.01</td>\n",
       "    </tr>\n",
       "    <tr>\n",
       "      <th>2</th>\n",
       "      <td>2022-10-01 00:01:00</td>\n",
       "      <td>229344000</td>\n",
       "      <td>54.529249</td>\n",
       "      <td>11.359166</td>\n",
       "      <td>LTKLJ</td>\n",
       "      <td>140.414996</td>\n",
       "      <td>-0.014812</td>\n",
       "      <td>7127.190917</td>\n",
       "      <td>140.0</td>\n",
       "      <td>0.014812</td>\n",
       "      <td>0.01</td>\n",
       "    </tr>\n",
       "    <tr>\n",
       "      <th>3</th>\n",
       "      <td>2022-10-01 00:01:20</td>\n",
       "      <td>229344000</td>\n",
       "      <td>54.528824</td>\n",
       "      <td>11.360489</td>\n",
       "      <td>LTKLJ</td>\n",
       "      <td>140.129870</td>\n",
       "      <td>-0.014256</td>\n",
       "      <td>7218.308615</td>\n",
       "      <td>140.0</td>\n",
       "      <td>0.014256</td>\n",
       "      <td>0.01</td>\n",
       "    </tr>\n",
       "    <tr>\n",
       "      <th>4</th>\n",
       "      <td>2022-10-01 00:01:40</td>\n",
       "      <td>229344000</td>\n",
       "      <td>54.528394</td>\n",
       "      <td>11.361816</td>\n",
       "      <td>LTKLJ</td>\n",
       "      <td>139.852954</td>\n",
       "      <td>-0.013846</td>\n",
       "      <td>7310.139577</td>\n",
       "      <td>135.0</td>\n",
       "      <td>0.013846</td>\n",
       "      <td>0.01</td>\n",
       "    </tr>\n",
       "  </tbody>\n",
       "</table>\n",
       "</div>"
      ],
      "text/plain": [
       "           # Timestamp       MMSI   Latitude  Longitude Destination  \\\n",
       "0  2022-10-01 00:00:20  229344000  54.530143  11.356242       LTKLJ   \n",
       "1  2022-10-01 00:00:40  229344000  54.529653  11.357865       LTKLJ   \n",
       "2  2022-10-01 00:01:00  229344000  54.529249  11.359166       LTKLJ   \n",
       "3  2022-10-01 00:01:20  229344000  54.528824  11.360489       LTKLJ   \n",
       "4  2022-10-01 00:01:40  229344000  54.528394  11.361816       LTKLJ   \n",
       "\n",
       "      bearing  bearing_rate       dist_m  bearing_bin  bearing_rate_abs  \\\n",
       "0  141.098699      0.000000  6930.459417        140.0          0.000000   \n",
       "1  140.711241     -0.019373  7039.053050        140.0          0.019373   \n",
       "2  140.414996     -0.014812  7127.190917        140.0          0.014812   \n",
       "3  140.129870     -0.014256  7218.308615        140.0          0.014256   \n",
       "4  139.852954     -0.013846  7310.139577        135.0          0.013846   \n",
       "\n",
       "   bearing_rate_bin  \n",
       "0              0.00  \n",
       "1              0.01  \n",
       "2              0.01  \n",
       "3              0.01  \n",
       "4              0.01  "
      ]
     },
     "execution_count": 4,
     "metadata": {},
     "output_type": "execute_result"
    }
   ],
   "source": [
    "# Schritt 1 ────────────────────────────────────────────────\n",
    "import numpy as np\n",
    "import pandas as pd\n",
    "\n",
    "# 1.1  Raster-Parameter (gern später anpassen)\n",
    "AZ_BIN_DEG = 5                       # Bearing-Bin-Breite: 5°\n",
    "RATE_EDGES = [0, .01, .03, .1, .3, 1, 3, 10]   # |Bearing-Rate|-Bins in °/s\n",
    "\n",
    "R_MAX_M  = 20_000                    # Max-Radius für später\n",
    "R_STEP_M = 500                       # Distanz-Bin-Breite\n",
    "\n",
    "# 1.2  Bearing in Azimut-Bins einteilen\n",
    "df[\"bearing_bin\"] = (df[\"bearing\"] // AZ_BIN_DEG) * AZ_BIN_DEG\n",
    "\n",
    "# 1.3  Absoluten Bearing-Rate-Wert und Rate-Bin bestimmen\n",
    "df[\"bearing_rate_abs\"] = df[\"bearing_rate\"].abs()\n",
    "df[\"bearing_rate_bin\"] = pd.cut(df[\"bearing_rate_abs\"],\n",
    "                        bins=RATE_EDGES,\n",
    "                        right=False,\n",
    "                        labels=RATE_EDGES[:-1]).astype(float)\n",
    "\n",
    "# 1.4  Kurzer Check\n",
    "print(\"Eindeutige theta_bin-Werte:\", sorted(df[\"bearing_bin\"].unique())[:10], \"...\")\n",
    "print(\"Eindeutige rate_bin-Werte :\", sorted(df[\"bearing_rate_bin\"].dropna().unique())[:10], \"...\")\n",
    "df.head()"
   ]
  },
  {
   "attachments": {},
   "cell_type": "markdown",
   "metadata": {},
   "source": [
    "## Schritt 2 – Distanz in 500-Meter-Bins packen\n"
   ]
  },
  {
   "cell_type": "code",
   "execution_count": 5,
   "metadata": {},
   "outputs": [
    {
     "name": "stdout",
     "output_type": "stream",
     "text": [
      "range_vec Länge: 40 erste Werte: [ 250.  750. 1250. 1750. 2250.]\n",
      "dist_bin unique: [np.int64(0), np.int64(1), np.int64(2), np.int64(3), np.int64(4), np.int64(5), np.int64(6), np.int64(7), np.int64(8), np.int64(9)] ...\n"
     ]
    },
    {
     "data": {
      "text/html": [
       "<div>\n",
       "<style scoped>\n",
       "    .dataframe tbody tr th:only-of-type {\n",
       "        vertical-align: middle;\n",
       "    }\n",
       "\n",
       "    .dataframe tbody tr th {\n",
       "        vertical-align: top;\n",
       "    }\n",
       "\n",
       "    .dataframe thead th {\n",
       "        text-align: right;\n",
       "    }\n",
       "</style>\n",
       "<table border=\"1\" class=\"dataframe\">\n",
       "  <thead>\n",
       "    <tr style=\"text-align: right;\">\n",
       "      <th></th>\n",
       "      <th># Timestamp</th>\n",
       "      <th>MMSI</th>\n",
       "      <th>Latitude</th>\n",
       "      <th>Longitude</th>\n",
       "      <th>Destination</th>\n",
       "      <th>bearing</th>\n",
       "      <th>bearing_rate</th>\n",
       "      <th>dist_m</th>\n",
       "      <th>bearing_bin</th>\n",
       "      <th>bearing_rate_abs</th>\n",
       "      <th>bearing_rate_bin</th>\n",
       "      <th>dist_bin</th>\n",
       "    </tr>\n",
       "  </thead>\n",
       "  <tbody>\n",
       "    <tr>\n",
       "      <th>0</th>\n",
       "      <td>2022-10-01 00:00:20</td>\n",
       "      <td>229344000</td>\n",
       "      <td>54.530143</td>\n",
       "      <td>11.356242</td>\n",
       "      <td>LTKLJ</td>\n",
       "      <td>141.098699</td>\n",
       "      <td>0.000000</td>\n",
       "      <td>6930.459417</td>\n",
       "      <td>140.0</td>\n",
       "      <td>0.000000</td>\n",
       "      <td>0.00</td>\n",
       "      <td>13</td>\n",
       "    </tr>\n",
       "    <tr>\n",
       "      <th>1</th>\n",
       "      <td>2022-10-01 00:00:40</td>\n",
       "      <td>229344000</td>\n",
       "      <td>54.529653</td>\n",
       "      <td>11.357865</td>\n",
       "      <td>LTKLJ</td>\n",
       "      <td>140.711241</td>\n",
       "      <td>-0.019373</td>\n",
       "      <td>7039.053050</td>\n",
       "      <td>140.0</td>\n",
       "      <td>0.019373</td>\n",
       "      <td>0.01</td>\n",
       "      <td>14</td>\n",
       "    </tr>\n",
       "    <tr>\n",
       "      <th>2</th>\n",
       "      <td>2022-10-01 00:01:00</td>\n",
       "      <td>229344000</td>\n",
       "      <td>54.529249</td>\n",
       "      <td>11.359166</td>\n",
       "      <td>LTKLJ</td>\n",
       "      <td>140.414996</td>\n",
       "      <td>-0.014812</td>\n",
       "      <td>7127.190917</td>\n",
       "      <td>140.0</td>\n",
       "      <td>0.014812</td>\n",
       "      <td>0.01</td>\n",
       "      <td>14</td>\n",
       "    </tr>\n",
       "    <tr>\n",
       "      <th>3</th>\n",
       "      <td>2022-10-01 00:01:20</td>\n",
       "      <td>229344000</td>\n",
       "      <td>54.528824</td>\n",
       "      <td>11.360489</td>\n",
       "      <td>LTKLJ</td>\n",
       "      <td>140.129870</td>\n",
       "      <td>-0.014256</td>\n",
       "      <td>7218.308615</td>\n",
       "      <td>140.0</td>\n",
       "      <td>0.014256</td>\n",
       "      <td>0.01</td>\n",
       "      <td>14</td>\n",
       "    </tr>\n",
       "    <tr>\n",
       "      <th>4</th>\n",
       "      <td>2022-10-01 00:01:40</td>\n",
       "      <td>229344000</td>\n",
       "      <td>54.528394</td>\n",
       "      <td>11.361816</td>\n",
       "      <td>LTKLJ</td>\n",
       "      <td>139.852954</td>\n",
       "      <td>-0.013846</td>\n",
       "      <td>7310.139577</td>\n",
       "      <td>135.0</td>\n",
       "      <td>0.013846</td>\n",
       "      <td>0.01</td>\n",
       "      <td>14</td>\n",
       "    </tr>\n",
       "  </tbody>\n",
       "</table>\n",
       "</div>"
      ],
      "text/plain": [
       "           # Timestamp       MMSI   Latitude  Longitude Destination  \\\n",
       "0  2022-10-01 00:00:20  229344000  54.530143  11.356242       LTKLJ   \n",
       "1  2022-10-01 00:00:40  229344000  54.529653  11.357865       LTKLJ   \n",
       "2  2022-10-01 00:01:00  229344000  54.529249  11.359166       LTKLJ   \n",
       "3  2022-10-01 00:01:20  229344000  54.528824  11.360489       LTKLJ   \n",
       "4  2022-10-01 00:01:40  229344000  54.528394  11.361816       LTKLJ   \n",
       "\n",
       "      bearing  bearing_rate       dist_m  bearing_bin  bearing_rate_abs  \\\n",
       "0  141.098699      0.000000  6930.459417        140.0          0.000000   \n",
       "1  140.711241     -0.019373  7039.053050        140.0          0.019373   \n",
       "2  140.414996     -0.014812  7127.190917        140.0          0.014812   \n",
       "3  140.129870     -0.014256  7218.308615        140.0          0.014256   \n",
       "4  139.852954     -0.013846  7310.139577        135.0          0.013846   \n",
       "\n",
       "   bearing_rate_bin  dist_bin  \n",
       "0              0.00        13  \n",
       "1              0.01        14  \n",
       "2              0.01        14  \n",
       "3              0.01        14  \n",
       "4              0.01        14  "
      ]
     },
     "execution_count": 5,
     "metadata": {},
     "output_type": "execute_result"
    }
   ],
   "source": [
    "# Schritt 2 ────────────────────────────────────────────────\n",
    "import numpy as np\n",
    "\n",
    "# 2.1  Distanz-Bin-Zentren (rangeVec) anlegen\n",
    "range_vec = np.arange(0, R_MAX_M, R_STEP_M) + R_STEP_M / 2   # z. B. 250, 750, …\n",
    "\n",
    "# 2.2  jedem Datenpunkt einen Distanz-Bin-Index zuweisen\n",
    "df[\"dist_bin\"] = (df[\"dist_m\"] // R_STEP_M).clip(upper=len(range_vec)-1).astype(int)\n",
    "\n",
    "# 2.3  Check\n",
    "print(\"range_vec Länge:\", len(range_vec), \"erste Werte:\", range_vec[:5])\n",
    "print(\"dist_bin unique:\", sorted(df[\"dist_bin\"].unique())[:10], \"...\")\n",
    "df.head()"
   ]
  },
  {
   "attachments": {},
   "cell_type": "markdown",
   "metadata": {},
   "source": [
    "## Schritt 3"
   ]
  },
  {
   "cell_type": "code",
   "execution_count": 6,
   "metadata": {},
   "outputs": [
    {
     "name": "stdout",
     "output_type": "stream",
     "text": [
      "hist shape (az, rate, dist): (72, 7, 40)\n",
      "Summe aller Counts        : 977539\n"
     ]
    }
   ],
   "source": [
    "# Schritt 3 ────────────────────────────────────────────────\n",
    "# 3-D-Histogramm (bearing_bin × bearing_rate_bin × dist_bin)\n",
    "\n",
    "import numpy as np\n",
    "import pandas as pd   # für pd.isna in der Schleife\n",
    "\n",
    "# 3.1  Anzahl Bins je Achse\n",
    "AZ_BINS   = 360 // AZ_BIN_DEG            # z. B. 72\n",
    "RATE_BINS = len(RATE_EDGES) - 1          # z. B. 7\n",
    "R_BINS    = len(range_vec)               # z. B. 40\n",
    "\n",
    "# 3.2  Leeres 3-D-Array\n",
    "hist = np.zeros((AZ_BINS, RATE_BINS, R_BINS), dtype=int)\n",
    "\n",
    "# 3.3  Gruppen zählen\n",
    "grp_counts = (\n",
    "    df.groupby([\"bearing_bin\", \"bearing_rate_bin\", \"dist_bin\"])\n",
    "      .size()\n",
    ")\n",
    "\n",
    "# Mapping von Rate-Bin-Wert (linker Rand) zum Index 0…RATE_BINS-1\n",
    "rate_val_to_idx = {v: i for i, v in enumerate(RATE_EDGES[:-1])}\n",
    "\n",
    "# 3.4  Counts einsortieren\n",
    "for (be_bin, ra_bin, dist_bin), cnt in grp_counts.items():\n",
    "    if pd.isna(ra_bin):\n",
    "        continue                # Zeilen ohne gültigen Rate-Bin überspringen\n",
    "    be_i = int(be_bin / AZ_BIN_DEG)\n",
    "    ra_i = rate_val_to_idx[ra_bin]\n",
    "    hist[be_i, ra_i, int(dist_bin)] = cnt\n",
    "\n",
    "# 3.5  Kurzer Check\n",
    "print(\"hist shape (az, rate, dist):\", hist.shape)\n",
    "print(\"Summe aller Counts        :\", hist.sum())"
   ]
  },
  {
   "attachments": {},
   "cell_type": "markdown",
   "metadata": {},
   "source": [
    "## Schritt 4"
   ]
  },
  {
   "cell_type": "code",
   "execution_count": 7,
   "metadata": {},
   "outputs": [
    {
     "name": "stdout",
     "output_type": "stream",
     "text": [
      "Nicht-leere (bearing_bin (θ), bearing_rate_bin (ω))-Paare: 403 von 504\n",
      "Beispiel-Summe erster aktiver Bin: 1.0\n"
     ]
    }
   ],
   "source": [
    "# Schritt 4 ────────────────────────────────────────────────\n",
    "import numpy as np\n",
    "\n",
    "# 4.1  Zeilensummen über die Distanz-Achse\n",
    "row_sums = hist.sum(axis=2, keepdims=True)\n",
    "\n",
    "# 4.2  Division – nur dort, wo Summe > 0\n",
    "prob_cube = np.divide(hist, row_sums, where=row_sums != 0)\n",
    "\n",
    "# 4.3  Kontrolle\n",
    "non_empty = np.count_nonzero(row_sums.squeeze() > 0)\n",
    "print(\"Nicht-leere (bearing_bin (θ), bearing_rate_bin (ω))-Paare:\", non_empty, \"von\", row_sums.size)\n",
    "print(\"Beispiel-Summe erster aktiver Bin:\",\n",
    "      prob_cube[row_sums.squeeze() > 0][0].sum())\n"
   ]
  },
  {
   "attachments": {},
   "cell_type": "markdown",
   "metadata": {},
   "source": [
    "## Schritt 5 – Lookup-Tabelle speichern & Runtime-Funktion bereitstellen\n"
   ]
  },
  {
   "cell_type": "code",
   "execution_count": 8,
   "metadata": {},
   "outputs": [
    {
     "name": "stdout",
     "output_type": "stream",
     "text": [
      "✅ Lookup-Table gespeichert: data/processed/bearing/range_lut.pkl\n"
     ]
    }
   ],
   "source": [
    "import pickle, os, json\n",
    "\n",
    "# 5.1  Sammle alles in ein Dict\n",
    "lut = {\n",
    "    \"params\": {\n",
    "        \"az_bin_deg\": AZ_BIN_DEG,\n",
    "        \"rate_edges\": RATE_EDGES,         # list\n",
    "        \"range_vec\":  range_vec.tolist(), # list\n",
    "    },\n",
    "    \"prob_cube\": prob_cube.astype(\"float32\")  # 4× kleiner\n",
    "}\n",
    "\n",
    "# 5.2  Pfad\n",
    "out_pkl = \"data/processed/bearing/range_lut.pkl\"\n",
    "os.makedirs(os.path.dirname(out_pkl), exist_ok=True)\n",
    "\n",
    "with open(out_pkl, \"wb\") as f:\n",
    "    pickle.dump(lut, f)\n",
    "\n",
    "print(\"✅ Lookup-Table gespeichert:\", out_pkl)"
   ]
  },
  {
   "attachments": {},
   "cell_type": "markdown",
   "metadata": {},
   "source": [
    "## Schritt 6"
   ]
  },
  {
   "cell_type": "code",
   "execution_count": 9,
   "metadata": {},
   "outputs": [],
   "source": [
    "import numpy as np, pickle\n",
    "\n",
    "def load_range_lut(path=\"data/processed/bearing/range_lut.pkl\"):\n",
    "    with open(path, \"rb\") as f:\n",
    "        return pickle.load(f)\n",
    "\n",
    "def lookup_range_pdf(theta, omega, lut):\n",
    "    p       = lut[\"params\"]\n",
    "    cube    = lut[\"prob_cube\"]\n",
    "\n",
    "    # 1) Bearing-Bin\n",
    "    th_i = int((theta % 360) // p[\"az_bin_deg\"])\n",
    "\n",
    "    # 2) Rate-Bin (Absolutwert)\n",
    "    abs_ω = abs(omega)\n",
    "    edges = p[\"rate_edges\"]\n",
    "    ra_i  = np.searchsorted(edges, abs_ω, side=\"right\") - 1\n",
    "    if ra_i < 0 or ra_i >= len(edges)-1:\n",
    "        return None, None          # außerhalb Raster\n",
    "\n",
    "    pdf = cube[th_i, ra_i, :]\n",
    "    if pdf.sum() == 0:\n",
    "        return None, None          # kein Historien-Datensatz\n",
    "\n",
    "    return np.array(p[\"range_vec\"]), pdf"
   ]
  },
  {
   "cell_type": "code",
   "execution_count": 10,
   "metadata": {},
   "outputs": [
    {
     "name": "stdout",
     "output_type": "stream",
     "text": [
      "Erwartete Distanz (m): 8330.2\n",
      "Top-3 Wahrscheinlichkeiten:\n",
      "  R ≈   8750 m   P=0.132\n",
      "  R ≈   8250 m   P=0.128\n",
      "  R ≈   9250 m   P=0.117\n",
      "  R ≈   7750 m   P=0.109\n",
      "  R ≈   9750 m   P=0.097\n"
     ]
    }
   ],
   "source": [
    "lut = load_range_lut()\n",
    "range_vec, prob = lookup_range_pdf(theta=139.852954, omega=0.013846, lut=lut)\n",
    "\n",
    "if prob is not None:\n",
    "    print(\"Erwartete Distanz (m):\", np.dot(range_vec, prob).round(1))\n",
    "    print(\"Top-3 Wahrscheinlichkeiten:\")\n",
    "    for r, p in sorted(zip(range_vec, prob), key=lambda t: -t[1])[:5]:\n",
    "        print(f\"  R ≈ {r:6.0f} m   P={p:.3f}\")\n",
    "else:\n",
    "    print(\"Keine Historie für diese (θ,ω)-Kombination.\")"
   ]
  },
  {
   "attachments": {},
   "cell_type": "markdown",
   "metadata": {},
   "source": [
    "## Plot"
   ]
  },
  {
   "cell_type": "code",
   "execution_count": null,
   "metadata": {},
   "outputs": [],
   "source": []
  }
 ],
 "metadata": {
  "kernelspec": {
   "display_name": "AIS",
   "language": "python",
   "name": "python3"
  },
  "language_info": {
   "codemirror_mode": {
    "name": "ipython",
    "version": 3
   },
   "file_extension": ".py",
   "mimetype": "text/x-python",
   "name": "python",
   "nbconvert_exporter": "python",
   "pygments_lexer": "ipython3",
   "version": "3.13.3"
  },
  "orig_nbformat": 4
 },
 "nbformat": 4,
 "nbformat_minor": 2
}
