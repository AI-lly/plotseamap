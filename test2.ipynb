{
 "cells": [
  {
   "cell_type": "code",
   "execution_count": 56,
   "metadata": {},
   "outputs": [],
   "source": [
    "# + tags=[]\n",
    "import pandas as pd\n",
    "import geopandas as gpd\n",
    "import matplotlib.pyplot as plt\n",
    "from shapely.geometry import box, Point\n",
    "import numpy as np\n",
    "%matplotlib inline"
   ]
  },
  {
   "attachments": {},
   "cell_type": "markdown",
   "metadata": {},
   "source": [
    "## 1. AIS-Datenvorverarbeitung: Filterung, Δt-Berechnung & Cargo-Klassifikation"
   ]
  },
  {
   "cell_type": "code",
   "execution_count": 78,
   "metadata": {},
   "outputs": [
    {
     "name": "stdout",
     "output_type": "stream",
     "text": [
      "Ursprüngliche Zeilen: 193,706\n",
      "Nach Type of mobile-Filter: 193,706\n",
      "Nach Navigational status-Filter: 193,706\n",
      "Nach Position fixing device-Filter: 193,706\n",
      "Δt-Spalte hinzugefügt (Sekunden)\n",
      "\n",
      "Klassenverteilung nach Filterung:\n",
      "is_cargo\n",
      "Other    135191\n",
      "Cargo     58515\n",
      "Name: count, dtype: int64\n",
      "\n",
      "Beispieldaten:\n",
      "    SOG    COG  Draught  Width  Length  delta_t  ROT  is_cargo\n",
      "0   0.5  343.8      1.9    8.0    19.0      2.0  NaN         0\n",
      "1   8.4  114.1      2.4   12.0    88.0     11.0  NaN         1\n",
      "2   0.0  202.0      2.6   10.0    25.0     11.0  0.0         0\n",
      "3  12.4   43.0      6.1   24.0   142.0     10.0  3.6         0\n",
      "4   9.7   94.0      5.5   12.0    90.0     10.0  0.0         1\n",
      "5   0.0  346.8      2.6   10.0    25.0     10.0  NaN         0\n",
      "6  10.5  293.1      5.9   13.0    89.0     10.0  0.0         1\n",
      "7  11.8  296.8      7.3   38.0   252.0     10.0 -1.1         0\n",
      "8  15.9  206.0      5.3   24.0   141.0      6.0  0.0         0\n",
      "9   0.8   55.4      2.1    7.0    21.0     11.0  NaN         0\n"
     ]
    }
   ],
   "source": [
    "import pandas as pd\n",
    "\n",
    "# ───────────────────────────────────────────────────────────────────────\n",
    "# 1) CSV einlesen\n",
    "# ───────────────────────────────────────────────────────────────────────\n",
    "df = pd.read_csv(\n",
    "    \"data/processed/ais/fehmarnbelt_ais_filtered_no_ship_type.csv\",\n",
    "    parse_dates=[\"# Timestamp\"],\n",
    "    dtype={\"MMSI\": str},\n",
    "    low_memory=False\n",
    ")\n",
    "print(f\"Ursprüngliche Zeilen: {len(df):,}\")\n",
    "\n",
    "# ───────────────────────────────────────────────────────────────────────\n",
    "# 2) AIS-Filter (ohne Config) anwenden\n",
    "#    – Type of mobile ∈ {Class A, Class B}\n",
    "#    – Navigational status == \"Under way using engine\"\n",
    "#    – Type of position fixing device == \"GPS\"\n",
    "# ───────────────────────────────────────────────────────────────────────\n",
    "df = df[df[\"Type of mobile\"].isin([\"Class A\", \"Class B\"])]\n",
    "print(f\"Nach Type of mobile-Filter: {len(df):,}\")\n",
    "\n",
    "df = df[df[\"Navigational status\"] == \"Under way using engine\"]\n",
    "print(f\"Nach Navigational status-Filter: {len(df):,}\")\n",
    "\n",
    "df = df[df[\"Type of position fixing device\"] == \"GPS\"]\n",
    "print(f\"Nach Position fixing device-Filter: {len(df):,}\")\n",
    "\n",
    "# ───────────────────────────────────────────────────────────────────────\n",
    "# 3) Δt-Spalte berechnen\n",
    "#    – sortiert nach MMSI und Timestamp\n",
    "#    – diff() innerhalb jeder MMSI-Gruppe\n",
    "#    – in Sekunden umwandeln, erstes Δt = 0\n",
    "# ───────────────────────────────────────────────────────────────────────\n",
    "df = df.sort_values([\"MMSI\", \"# Timestamp\"]).reset_index(drop=True)\n",
    "df[\"delta_t\"] = (\n",
    "    df.groupby(\"MMSI\")[\"# Timestamp\"]\n",
    "      .diff()\n",
    "      .dt.total_seconds()\n",
    "      .fillna(0)\n",
    ")\n",
    "print(\"Δt-Spalte hinzugefügt (Sekunden)\")\n",
    "\n",
    "# ───────────────────────────────────────────────────────────────────────\n",
    "# 4) Zielvariable anlegen: Cargo vs. Nicht-Cargo\n",
    "# ───────────────────────────────────────────────────────────────────────\n",
    "df[\"is_cargo\"] = (df[\"Ship type\"] == \"Cargo\").astype(int)\n",
    "\n",
    "# ───────────────────────────────────────────────────────────────────────\n",
    "# 5) Klassenverteilung prüfen\n",
    "# ───────────────────────────────────────────────────────────────────────\n",
    "counts = df[\"is_cargo\"].value_counts().rename({1: \"Cargo\", 0: \"Other\"})\n",
    "print(\"\\nKlassenverteilung nach Filterung:\")\n",
    "print(counts)\n",
    "\n",
    "\n",
    "# ───────────────────────────────────────────────────────────────────────\n",
    "# 6) Kurzer Blick auf einige Schlüssel-Features inkl. Δt und ROT\n",
    "# ───────────────────────────────────────────────────────────────────────\n",
    "print(\"\\nBeispieldaten:\")\n",
    "print(\n",
    "    df[\n",
    "        [\"SOG\", \"COG\", \"Draught\", \"Width\", \"Length\", \"delta_t\", \"ROT\", \"is_cargo\"]\n",
    "    ]\n",
    "    .sample(10, random_state=42)\n",
    "    .reset_index(drop=True)\n",
    ")"
   ]
  },
  {
   "attachments": {},
   "cell_type": "markdown",
   "metadata": {},
   "source": [
    "# 2. Fehlende Werte"
   ]
  },
  {
   "cell_type": "code",
   "execution_count": 79,
   "metadata": {},
   "outputs": [
    {
     "name": "stdout",
     "output_type": "stream",
     "text": [
      "\n",
      "Fehlende Werte pro Spalte:\n",
      "         missing_count  missing_pct\n",
      "SOG               1166         0.60\n",
      "COG               1166         0.60\n",
      "Draught           3706         1.91\n",
      "Width                0         0.00\n",
      "Length               0         0.00\n",
      "delta_t              0         0.00\n",
      "ROT              43417        22.41\n"
     ]
    }
   ],
   "source": [
    "# ───────────────────────────────────────────────────────────────────────\n",
    "# 7) Fehlende Werte prüfen\n",
    "# ───────────────────────────────────────────────────────────────────────\n",
    "cols_of_interest = [\"SOG\", \"COG\", \"Draught\", \"Width\", \"Length\", \"delta_t\", \"ROT\"]\n",
    "missing = df[cols_of_interest].isna().sum()\n",
    "missing_pct = (missing / len(df) * 100).round(2)\n",
    "\n",
    "missing_summary = pd.DataFrame({\n",
    "    \"missing_count\": missing,\n",
    "    \"missing_pct\":   missing_pct\n",
    "})\n",
    "print(\"\\nFehlende Werte pro Spalte:\")\n",
    "print(missing_summary)"
   ]
  },
  {
   "cell_type": "code",
   "execution_count": 80,
   "metadata": {},
   "outputs": [
    {
     "name": "stdout",
     "output_type": "stream",
     "text": [
      "Fehlende Werte pro Spalte:\n",
      "         missing_count  missing_pct\n",
      "ROT              43417    22.413864\n",
      "Draught           3706     1.913209\n",
      "SOG               1166     0.601943\n",
      "COG               1166     0.601943\n",
      "Width                0     0.000000\n",
      "Length               0     0.000000\n",
      "delta_t              0     0.000000\n",
      "\n",
      "➟ Am meisten fehlen in 'ROT': 43417 Werte (22.41 %)\n"
     ]
    }
   ],
   "source": [
    "import pandas as pd\n",
    "\n",
    "# --- 1) Welches Feature hat am meisten fehlende Werte? ---\n",
    "# Liste Deiner betrachteten Features\n",
    "cols = [\"SOG\", \"COG\", \"Draught\", \"Width\", \"Length\", \"delta_t\", \"ROT\"]\n",
    "\n",
    "# Fehlende Anzahl und Prozent für jede Spalte\n",
    "missing_count = df[cols].isna().sum()\n",
    "missing_pct   = df[cols].isna().mean() * 100\n",
    "\n",
    "missing_df = pd.DataFrame({\n",
    "    \"missing_count\": missing_count,\n",
    "    \"missing_pct\":   missing_pct\n",
    "}).sort_values(\"missing_count\", ascending=False)\n",
    "\n",
    "print(\"Fehlende Werte pro Spalte:\")\n",
    "print(missing_df)\n",
    "\n",
    "# Spalte mit den meisten Fehlwerten\n",
    "worst_col = missing_df.index[0]\n",
    "print(f\"\\n➟ Am meisten fehlen in '{worst_col}': \"\n",
    "      f\"{missing_df.loc[worst_col,'missing_count']} Werte \"\n",
    "      f\"({missing_df.loc[worst_col,'missing_pct']:.2f} %)\")"
   ]
  },
  {
   "cell_type": "code",
   "execution_count": 81,
   "metadata": {},
   "outputs": [
    {
     "name": "stdout",
     "output_type": "stream",
     "text": [
      "\n",
      "Fehlende Werte pro Ship type und Feature:\n",
      "                  SOG   COG  Draught  Width  Length  delta_t    ROT\n",
      "Ship type                                                          \n",
      "Cargo            1165  1165        0      0       0        0   2082\n",
      "Dredging            0     0        0      0       0        0   1200\n",
      "HSC                 0     0        0      0       0        0   9530\n",
      "Law enforcement     0     0        0      0       0        0     29\n",
      "Other               1     1        0      0       0        0  12249\n",
      "Passenger           0     0     3706      0       0        0   1192\n",
      "Reserved            0     0        0      0       0        0     20\n",
      "SAR                 0     0        0      0       0        0   1677\n",
      "Tanker              0     0        0      0       0        0     92\n",
      "Tug                 0     0        0      0       0        0  15323\n",
      "Undefined           0     0        0      0       0        0     23\n"
     ]
    }
   ],
   "source": [
    "# --- 2) Fehlende Werte gruppiert nach Ship type ---\n",
    "features = cols  # ggf. anpassen\n",
    "missing_by_type = df.groupby(\"Ship type\")[features] \\\n",
    "                    .apply(lambda x: x.isna().sum())\n",
    "\n",
    "print(\"\\nFehlende Werte pro Ship type und Feature:\")\n",
    "print(missing_by_type)\n"
   ]
  },
  {
   "cell_type": "code",
   "execution_count": 82,
   "metadata": {},
   "outputs": [
    {
     "name": "stdout",
     "output_type": "stream",
     "text": [
      "\n",
      "Ship types mit den meisten fehlenden Werten (gesamt):\n",
      "Ship type\n",
      "Tug                15323\n",
      "Other              12251\n",
      "HSC                 9530\n",
      "Passenger           4898\n",
      "Cargo               4412\n",
      "SAR                 1677\n",
      "Dredging            1200\n",
      "Tanker                92\n",
      "Law enforcement       29\n",
      "Undefined             23\n",
      "dtype: int64\n"
     ]
    }
   ],
   "source": [
    "# Gesamtzahl fehlender pro Ship type\n",
    "total_missing = missing_by_type.sum(axis=1).sort_values(ascending=False)\n",
    "print(\"\\nShip types mit den meisten fehlenden Werten (gesamt):\")\n",
    "print(total_missing.head(10))"
   ]
  },
  {
   "attachments": {},
   "cell_type": "markdown",
   "metadata": {},
   "source": [
    "## 2. Sequenzanalyse"
   ]
  },
  {
   "cell_type": "code",
   "execution_count": 63,
   "metadata": {},
   "outputs": [
    {
     "name": "stdout",
     "output_type": "stream",
     "text": [
      "Sequenzlängen (Top 10 Schiffe):\n",
      "MMSI\n",
      "235095777    39394\n",
      "314217000    21418\n",
      "219022257    20326\n",
      "230666000    20093\n",
      "211211850    20001\n",
      "265610950    18208\n",
      "314544000    18112\n",
      "230007000    17950\n",
      "219017081    17899\n",
      "219024784    17759\n",
      "Name: count, dtype: int64\n"
     ]
    },
    {
     "data": {
      "image/png": "[encoded data removed]",
      "text/plain": [
       "<Figure size 600x400 with 1 Axes>"
      ]
     },
     "metadata": {},
     "output_type": "display_data"
    }
   ],
   "source": [
    "# 1.2) Sequenzlängen pro MMSI zählen\n",
    "seq_lens = df.groupby(\"MMSI\").size().rename(\"count\")\n",
    "print(\"Sequenzlängen (Top 10 Schiffe):\")\n",
    "print(seq_lens.sort_values(ascending=False).head(10))\n",
    "\n",
    "# 1.3) Verteilung der Sequenzlängen ansehen\n",
    "import matplotlib.pyplot as plt\n",
    "\n",
    "plt.figure(figsize=(6,4))\n",
    "plt.hist(seq_lens, bins=50, log=True)\n",
    "plt.xlabel(\"Anzahl AIS-Messages pro MMSI\")\n",
    "plt.ylabel(\"Schiffe (log)\")\n",
    "plt.title(\"Verteilung der Sequenzlängen\")\n",
    "plt.tight_layout()\n",
    "plt.show()"
   ]
  },
  {
   "cell_type": "code",
   "execution_count": 67,
   "metadata": {},
   "outputs": [
    {
     "name": "stdout",
     "output_type": "stream",
     "text": [
      "Anzahl Schiffe mit < 20 Meldungen: 15\n",
      "\n",
      "Beispiele (MMSI: Anzahl):\n",
      "MMSI\n",
      "236112059    1\n",
      "244100025    1\n",
      "249605000    2\n",
      "255806177    2\n",
      "211846360    4\n",
      "304091000    4\n",
      "311000330    4\n",
      "219024891    5\n",
      "261001340    5\n",
      "211603970    6\n",
      "Name: count, dtype: int64\n"
     ]
    }
   ],
   "source": [
    "# 2) Schiffe mit weniger als 20 Meldungen herausfiltern\n",
    "few = seq_lens[seq_lens < 20]\n",
    "\n",
    "# 3) Ergebnis ausgeben\n",
    "print(f\"Anzahl Schiffe mit < 20 Meldungen: {few.count():,}\")\n",
    "print(\"\\nBeispiele (MMSI: Anzahl):\")\n",
    "print(few.sort_values().head(10))"
   ]
  },
  {
   "cell_type": "code",
   "execution_count": 69,
   "metadata": {},
   "outputs": [
    {
     "name": "stdout",
     "output_type": "stream",
     "text": [
      "Nach Mindestlänge ≥20: 1,041 Schiffe bleiben übrig.\n"
     ]
    }
   ],
   "source": [
    "MIN_LEN = 20\n",
    "valid_mmsi = seq_lens[seq_lens >= MIN_LEN].index\n",
    "df = df[df[\"MMSI\"].isin(valid_mmsi)]\n",
    "print(f\"Nach Mindestlänge ≥{MIN_LEN}: {df['MMSI'].nunique():,} Schiffe bleiben übrig.\")"
   ]
  },
  {
   "attachments": {},
   "cell_type": "markdown",
   "metadata": {},
   "source": [
    "## 2. Sliding-Window-Sequenzen erzeugen\n",
    "\n",
    "Wir übersetzen jede MMSI-Zeitreihe in eine Liste von Sequenzen der Form (L * Features)"
   ]
  },
  {
   "cell_type": "code",
   "execution_count": 57,
   "metadata": {},
   "outputs": [
    {
     "name": "stderr",
     "output_type": "stream",
     "text": [
      "100%|██████████| 1056/1056 [00:32<00:00, 32.10it/s]"
     ]
    },
    {
     "name": "stdout",
     "output_type": "stream",
     "text": [
      "X-Shape: (264883, 20, 6) y-Shape: (264883,)\n"
     ]
    },
    {
     "name": "stderr",
     "output_type": "stream",
     "text": [
      "\n"
     ]
    }
   ],
   "source": [
    "from tqdm import tqdm\n",
    "\n",
    "L = 20  # Fensterlänge\n",
    "features = [\"SOG\", \"COG\", \"Draught\", \"Width\", \"Length\", \"delta_t\"]  # je nach Verfügbarkeit\n",
    "\n",
    "X, y = [], []\n",
    "\n",
    "for mmsi, group in tqdm(df.groupby(\"MMSI\")):\n",
    "    # Sortieren nach Zeit\n",
    "    g = group.sort_values(\"# Timestamp\").reset_index(drop=True)\n",
    "    # delta_t berechnen (falls noch nicht vorhanden)\n",
    "    g[\"delta_t\"] = g[\"# Timestamp\"].diff().dt.total_seconds().fillna(0)\n",
    "    # Labels: Cargo vs. Other (für das gesamte Schiff oder Fenster? für uns Fenster=Schiff)\n",
    "    label = int((g[\"Ship type\"]==\"Cargo\").any())\n",
    "    # Fenster erzeugen\n",
    "    for start in range(0, len(g) - L + 1, L):  # nicht überlappend\n",
    "        seq = g.iloc[start:start+L][features].values\n",
    "        X.append(seq)\n",
    "        y.append(label)\n",
    "\n",
    "X = np.array(X)  # shape (n_sequences, L, n_features)\n",
    "y = np.array(y)  # shape (n_sequences,)\n",
    "print(\"X-Shape:\", X.shape, \"y-Shape:\", y.shape)"
   ]
  },
  {
   "attachments": {},
   "cell_type": "markdown",
   "metadata": {},
   "source": [
    "### 3. Train/Test-Split & Feature-Scaling\n",
    "\n",
    "Für RNN/TCN hilft es oft, die Features (z. B. SOG, COG, Draught) zu normalisieren."
   ]
  },
  {
   "cell_type": "code",
   "execution_count": null,
   "metadata": {},
   "outputs": [],
   "source": []
  }
 ],
 "metadata": {
  "kernelspec": {
   "display_name": "AIS",
   "language": "python",
   "name": "python3"
  },
  "language_info": {
   "codemirror_mode": {
    "name": "ipython",
    "version": 3
   },
   "file_extension": ".py",
   "mimetype": "text/x-python",
   "name": "python",
   "nbconvert_exporter": "python",
   "pygments_lexer": "ipython3",
   "version": "3.13.3"
  },
  "orig_nbformat": 4
 },
 "nbformat": 4,
 "nbformat_minor": 2
}
